{
 "cells": [
  {
   "cell_type": "markdown",
   "id": "81c7e6e6",
   "metadata": {},
   "source": [
    "# ITBA 82.05 : Análisis Predictivo \n",
    "\n",
    "# Kaggle Challenge : Submission of a predictive model \n",
    "\n",
    "# Elsa DOYEN\n",
    "\n",
    "## Introduction\n",
    "\n",
    "For the second part of the predictive analytics course, we're going to run a Kaggle challenge. The aim is to introduce us to the different learning algorithms available. In effect, we'll have to use a training database to obtain the best possible prediction. \n",
    "\n",
    "In this notebook, you will find the work done for this project."
   ]
  },
  {
   "cell_type": "code",
   "execution_count": 1,
   "id": "b8ca9a38",
   "metadata": {},
   "outputs": [],
   "source": [
    "# Package import\n",
    "import pandas as pd\n",
    "import numpy as np\n",
    "import matplotlib.pyplot as plt\n",
    "from sklearn.model_selection import train_test_split\n",
    "from sklearn.preprocessing import MinMaxScaler\n",
    "from sklearn.neighbors import KNeighborsRegressor\n",
    "from sklearn.model_selection import GridSearchCV\n",
    "from sklearn.linear_model import LinearRegression\n",
    "from sklearn.metrics import mean_squared_error\n",
    "from sklearn.metrics import r2_score\n",
    "from sklearn.ensemble import GradientBoostingRegressor\n",
    "from sklearn.ensemble import RandomForestRegressor\n",
    "from sklearn.svm import SVR"
   ]
  },
  {
   "cell_type": "markdown",
   "id": "7c3d7db9",
   "metadata": {},
   "source": [
    "## Data download"
   ]
  },
  {
   "cell_type": "code",
   "execution_count": 2,
   "id": "67f55799",
   "metadata": {},
   "outputs": [],
   "source": [
    "data = pd.read_csv('origen.csv')\n",
    "data_test = pd.read_csv('testear.csv')"
   ]
  },
  {
   "cell_type": "code",
   "execution_count": 3,
   "id": "80375959",
   "metadata": {},
   "outputs": [
    {
     "data": {
      "text/html": [
       "<div>\n",
       "<style scoped>\n",
       "    .dataframe tbody tr th:only-of-type {\n",
       "        vertical-align: middle;\n",
       "    }\n",
       "\n",
       "    .dataframe tbody tr th {\n",
       "        vertical-align: top;\n",
       "    }\n",
       "\n",
       "    .dataframe thead th {\n",
       "        text-align: right;\n",
       "    }\n",
       "</style>\n",
       "<table border=\"1\" class=\"dataframe\">\n",
       "  <thead>\n",
       "    <tr style=\"text-align: right;\">\n",
       "      <th></th>\n",
       "      <th>Unnamed: 0</th>\n",
       "      <th>averageRating</th>\n",
       "      <th>numVotes</th>\n",
       "      <th>titleType</th>\n",
       "      <th>isAdult</th>\n",
       "      <th>startYear</th>\n",
       "      <th>endYear</th>\n",
       "      <th>runtimeMinutes</th>\n",
       "      <th>genres_x</th>\n",
       "      <th>directors</th>\n",
       "      <th>...</th>\n",
       "      <th>genres_y</th>\n",
       "      <th>original_language</th>\n",
       "      <th>popularity</th>\n",
       "      <th>production_companies</th>\n",
       "      <th>production_countries</th>\n",
       "      <th>revenue</th>\n",
       "      <th>runtime</th>\n",
       "      <th>status</th>\n",
       "      <th>tagline</th>\n",
       "      <th>video</th>\n",
       "    </tr>\n",
       "  </thead>\n",
       "  <tbody>\n",
       "    <tr>\n",
       "      <th>0</th>\n",
       "      <td>0</td>\n",
       "      <td>4.4</td>\n",
       "      <td>15</td>\n",
       "      <td>movie</td>\n",
       "      <td>0.0</td>\n",
       "      <td>1951</td>\n",
       "      <td>0</td>\n",
       "      <td>91</td>\n",
       "      <td>Comedy,Musical</td>\n",
       "      <td>nm0883334</td>\n",
       "      <td>...</td>\n",
       "      <td>NaN</td>\n",
       "      <td>NaN</td>\n",
       "      <td>NaN</td>\n",
       "      <td>NaN</td>\n",
       "      <td>NaN</td>\n",
       "      <td>NaN</td>\n",
       "      <td>NaN</td>\n",
       "      <td>NaN</td>\n",
       "      <td>NaN</td>\n",
       "      <td>NaN</td>\n",
       "    </tr>\n",
       "    <tr>\n",
       "      <th>1</th>\n",
       "      <td>1</td>\n",
       "      <td>7.0</td>\n",
       "      <td>990</td>\n",
       "      <td>tvSeries</td>\n",
       "      <td>0.0</td>\n",
       "      <td>2007</td>\n",
       "      <td>2021</td>\n",
       "      <td>30</td>\n",
       "      <td>Action,Adventure,Animation</td>\n",
       "      <td>nm2291816,nm3088555,nm4930005,nm1746040</td>\n",
       "      <td>...</td>\n",
       "      <td>NaN</td>\n",
       "      <td>NaN</td>\n",
       "      <td>NaN</td>\n",
       "      <td>NaN</td>\n",
       "      <td>NaN</td>\n",
       "      <td>NaN</td>\n",
       "      <td>NaN</td>\n",
       "      <td>NaN</td>\n",
       "      <td>NaN</td>\n",
       "      <td>NaN</td>\n",
       "    </tr>\n",
       "    <tr>\n",
       "      <th>2</th>\n",
       "      <td>2</td>\n",
       "      <td>8.1</td>\n",
       "      <td>41</td>\n",
       "      <td>tvEpisode</td>\n",
       "      <td>0.0</td>\n",
       "      <td>2011</td>\n",
       "      <td>0</td>\n",
       "      <td>44</td>\n",
       "      <td>Documentary,History,War</td>\n",
       "      <td>nm0414025</td>\n",
       "      <td>...</td>\n",
       "      <td>NaN</td>\n",
       "      <td>NaN</td>\n",
       "      <td>NaN</td>\n",
       "      <td>NaN</td>\n",
       "      <td>NaN</td>\n",
       "      <td>NaN</td>\n",
       "      <td>NaN</td>\n",
       "      <td>NaN</td>\n",
       "      <td>NaN</td>\n",
       "      <td>NaN</td>\n",
       "    </tr>\n",
       "    <tr>\n",
       "      <th>3</th>\n",
       "      <td>3</td>\n",
       "      <td>4.6</td>\n",
       "      <td>48</td>\n",
       "      <td>movie</td>\n",
       "      <td>0.0</td>\n",
       "      <td>1969</td>\n",
       "      <td>0</td>\n",
       "      <td>84</td>\n",
       "      <td>Drama</td>\n",
       "      <td>nm2977268</td>\n",
       "      <td>...</td>\n",
       "      <td>NaN</td>\n",
       "      <td>NaN</td>\n",
       "      <td>NaN</td>\n",
       "      <td>NaN</td>\n",
       "      <td>NaN</td>\n",
       "      <td>NaN</td>\n",
       "      <td>NaN</td>\n",
       "      <td>NaN</td>\n",
       "      <td>NaN</td>\n",
       "      <td>NaN</td>\n",
       "    </tr>\n",
       "    <tr>\n",
       "      <th>4</th>\n",
       "      <td>4</td>\n",
       "      <td>5.6</td>\n",
       "      <td>28</td>\n",
       "      <td>movie</td>\n",
       "      <td>0.0</td>\n",
       "      <td>2010</td>\n",
       "      <td>0</td>\n",
       "      <td>130</td>\n",
       "      <td>Comedy,Drama</td>\n",
       "      <td>nm2366663</td>\n",
       "      <td>...</td>\n",
       "      <td>NaN</td>\n",
       "      <td>NaN</td>\n",
       "      <td>NaN</td>\n",
       "      <td>NaN</td>\n",
       "      <td>NaN</td>\n",
       "      <td>NaN</td>\n",
       "      <td>NaN</td>\n",
       "      <td>NaN</td>\n",
       "      <td>NaN</td>\n",
       "      <td>NaN</td>\n",
       "    </tr>\n",
       "  </tbody>\n",
       "</table>\n",
       "<p>5 rows × 29 columns</p>\n",
       "</div>"
      ],
      "text/plain": [
       "   Unnamed: 0  averageRating  numVotes  titleType  isAdult  startYear  \\\n",
       "0           0            4.4        15      movie      0.0       1951   \n",
       "1           1            7.0       990   tvSeries      0.0       2007   \n",
       "2           2            8.1        41  tvEpisode      0.0       2011   \n",
       "3           3            4.6        48      movie      0.0       1969   \n",
       "4           4            5.6        28      movie      0.0       2010   \n",
       "\n",
       "   endYear  runtimeMinutes                    genres_x  \\\n",
       "0        0              91              Comedy,Musical   \n",
       "1     2021              30  Action,Adventure,Animation   \n",
       "2        0              44     Documentary,History,War   \n",
       "3        0              84                       Drama   \n",
       "4        0             130                Comedy,Drama   \n",
       "\n",
       "                                 directors  ... genres_y  original_language  \\\n",
       "0                                nm0883334  ...      NaN                NaN   \n",
       "1  nm2291816,nm3088555,nm4930005,nm1746040  ...      NaN                NaN   \n",
       "2                                nm0414025  ...      NaN                NaN   \n",
       "3                                nm2977268  ...      NaN                NaN   \n",
       "4                                nm2366663  ...      NaN                NaN   \n",
       "\n",
       "   popularity  production_companies production_countries revenue  runtime  \\\n",
       "0         NaN                   NaN                  NaN     NaN      NaN   \n",
       "1         NaN                   NaN                  NaN     NaN      NaN   \n",
       "2         NaN                   NaN                  NaN     NaN      NaN   \n",
       "3         NaN                   NaN                  NaN     NaN      NaN   \n",
       "4         NaN                   NaN                  NaN     NaN      NaN   \n",
       "\n",
       "  status  tagline video  \n",
       "0    NaN      NaN   NaN  \n",
       "1    NaN      NaN   NaN  \n",
       "2    NaN      NaN   NaN  \n",
       "3    NaN      NaN   NaN  \n",
       "4    NaN      NaN   NaN  \n",
       "\n",
       "[5 rows x 29 columns]"
      ]
     },
     "execution_count": 3,
     "metadata": {},
     "output_type": "execute_result"
    }
   ],
   "source": [
    "data.head()"
   ]
  },
  {
   "cell_type": "code",
   "execution_count": 4,
   "id": "326de114",
   "metadata": {},
   "outputs": [
    {
     "data": {
      "text/html": [
       "<div>\n",
       "<style scoped>\n",
       "    .dataframe tbody tr th:only-of-type {\n",
       "        vertical-align: middle;\n",
       "    }\n",
       "\n",
       "    .dataframe tbody tr th {\n",
       "        vertical-align: top;\n",
       "    }\n",
       "\n",
       "    .dataframe thead th {\n",
       "        text-align: right;\n",
       "    }\n",
       "</style>\n",
       "<table border=\"1\" class=\"dataframe\">\n",
       "  <thead>\n",
       "    <tr style=\"text-align: right;\">\n",
       "      <th></th>\n",
       "      <th>Unnamed: 0</th>\n",
       "      <th>numVotes</th>\n",
       "      <th>titleType</th>\n",
       "      <th>isAdult</th>\n",
       "      <th>startYear</th>\n",
       "      <th>endYear</th>\n",
       "      <th>runtimeMinutes</th>\n",
       "      <th>genres_x</th>\n",
       "      <th>directors</th>\n",
       "      <th>writers</th>\n",
       "      <th>...</th>\n",
       "      <th>genres_y</th>\n",
       "      <th>original_language</th>\n",
       "      <th>popularity</th>\n",
       "      <th>production_companies</th>\n",
       "      <th>production_countries</th>\n",
       "      <th>revenue</th>\n",
       "      <th>runtime</th>\n",
       "      <th>status</th>\n",
       "      <th>tagline</th>\n",
       "      <th>video</th>\n",
       "    </tr>\n",
       "  </thead>\n",
       "  <tbody>\n",
       "    <tr>\n",
       "      <th>0</th>\n",
       "      <td>0</td>\n",
       "      <td>10</td>\n",
       "      <td>tvEpisode</td>\n",
       "      <td>0.0</td>\n",
       "      <td>1980</td>\n",
       "      <td>0</td>\n",
       "      <td>0</td>\n",
       "      <td>Drama,Family,Fantasy</td>\n",
       "      <td>0</td>\n",
       "      <td>nm0416721</td>\n",
       "      <td>...</td>\n",
       "      <td>NaN</td>\n",
       "      <td>NaN</td>\n",
       "      <td>NaN</td>\n",
       "      <td>NaN</td>\n",
       "      <td>NaN</td>\n",
       "      <td>NaN</td>\n",
       "      <td>NaN</td>\n",
       "      <td>NaN</td>\n",
       "      <td>NaN</td>\n",
       "      <td>NaN</td>\n",
       "    </tr>\n",
       "    <tr>\n",
       "      <th>1</th>\n",
       "      <td>1</td>\n",
       "      <td>17</td>\n",
       "      <td>tvEpisode</td>\n",
       "      <td>0.0</td>\n",
       "      <td>2014</td>\n",
       "      <td>0</td>\n",
       "      <td>0</td>\n",
       "      <td>Drama,War</td>\n",
       "      <td>nm1573573</td>\n",
       "      <td>nm0208548,nm2952524,nm0429741,nm0894424</td>\n",
       "      <td>...</td>\n",
       "      <td>NaN</td>\n",
       "      <td>NaN</td>\n",
       "      <td>NaN</td>\n",
       "      <td>NaN</td>\n",
       "      <td>NaN</td>\n",
       "      <td>NaN</td>\n",
       "      <td>NaN</td>\n",
       "      <td>NaN</td>\n",
       "      <td>NaN</td>\n",
       "      <td>NaN</td>\n",
       "    </tr>\n",
       "    <tr>\n",
       "      <th>2</th>\n",
       "      <td>2</td>\n",
       "      <td>7</td>\n",
       "      <td>tvEpisode</td>\n",
       "      <td>0.0</td>\n",
       "      <td>2004</td>\n",
       "      <td>0</td>\n",
       "      <td>0</td>\n",
       "      <td>Music</td>\n",
       "      <td>0</td>\n",
       "      <td>0</td>\n",
       "      <td>...</td>\n",
       "      <td>NaN</td>\n",
       "      <td>NaN</td>\n",
       "      <td>NaN</td>\n",
       "      <td>NaN</td>\n",
       "      <td>NaN</td>\n",
       "      <td>NaN</td>\n",
       "      <td>NaN</td>\n",
       "      <td>NaN</td>\n",
       "      <td>NaN</td>\n",
       "      <td>NaN</td>\n",
       "    </tr>\n",
       "    <tr>\n",
       "      <th>3</th>\n",
       "      <td>3</td>\n",
       "      <td>297</td>\n",
       "      <td>tvEpisode</td>\n",
       "      <td>0.0</td>\n",
       "      <td>2002</td>\n",
       "      <td>0</td>\n",
       "      <td>30</td>\n",
       "      <td>Comedy</td>\n",
       "      <td>nm0952360</td>\n",
       "      <td>nm0742814,nm0804887,nm0005380</td>\n",
       "      <td>...</td>\n",
       "      <td>NaN</td>\n",
       "      <td>NaN</td>\n",
       "      <td>NaN</td>\n",
       "      <td>NaN</td>\n",
       "      <td>NaN</td>\n",
       "      <td>NaN</td>\n",
       "      <td>NaN</td>\n",
       "      <td>NaN</td>\n",
       "      <td>NaN</td>\n",
       "      <td>NaN</td>\n",
       "    </tr>\n",
       "    <tr>\n",
       "      <th>4</th>\n",
       "      <td>4</td>\n",
       "      <td>10</td>\n",
       "      <td>tvEpisode</td>\n",
       "      <td>0.0</td>\n",
       "      <td>2016</td>\n",
       "      <td>0</td>\n",
       "      <td>23</td>\n",
       "      <td>Animation,Comedy,Crime</td>\n",
       "      <td>nm2268014</td>\n",
       "      <td>nm1138389</td>\n",
       "      <td>...</td>\n",
       "      <td>NaN</td>\n",
       "      <td>NaN</td>\n",
       "      <td>NaN</td>\n",
       "      <td>NaN</td>\n",
       "      <td>NaN</td>\n",
       "      <td>NaN</td>\n",
       "      <td>NaN</td>\n",
       "      <td>NaN</td>\n",
       "      <td>NaN</td>\n",
       "      <td>NaN</td>\n",
       "    </tr>\n",
       "  </tbody>\n",
       "</table>\n",
       "<p>5 rows × 28 columns</p>\n",
       "</div>"
      ],
      "text/plain": [
       "   Unnamed: 0  numVotes  titleType  isAdult  startYear  endYear  \\\n",
       "0           0        10  tvEpisode      0.0       1980        0   \n",
       "1           1        17  tvEpisode      0.0       2014        0   \n",
       "2           2         7  tvEpisode      0.0       2004        0   \n",
       "3           3       297  tvEpisode      0.0       2002        0   \n",
       "4           4        10  tvEpisode      0.0       2016        0   \n",
       "\n",
       "   runtimeMinutes                genres_x  directors  \\\n",
       "0               0    Drama,Family,Fantasy          0   \n",
       "1               0               Drama,War  nm1573573   \n",
       "2               0                   Music          0   \n",
       "3              30                  Comedy  nm0952360   \n",
       "4              23  Animation,Comedy,Crime  nm2268014   \n",
       "\n",
       "                                   writers  ...  genres_y  original_language  \\\n",
       "0                                nm0416721  ...       NaN                NaN   \n",
       "1  nm0208548,nm2952524,nm0429741,nm0894424  ...       NaN                NaN   \n",
       "2                                        0  ...       NaN                NaN   \n",
       "3            nm0742814,nm0804887,nm0005380  ...       NaN                NaN   \n",
       "4                                nm1138389  ...       NaN                NaN   \n",
       "\n",
       "   popularity production_companies production_countries  revenue runtime  \\\n",
       "0         NaN                  NaN                  NaN      NaN     NaN   \n",
       "1         NaN                  NaN                  NaN      NaN     NaN   \n",
       "2         NaN                  NaN                  NaN      NaN     NaN   \n",
       "3         NaN                  NaN                  NaN      NaN     NaN   \n",
       "4         NaN                  NaN                  NaN      NaN     NaN   \n",
       "\n",
       "   status tagline video  \n",
       "0     NaN     NaN   NaN  \n",
       "1     NaN     NaN   NaN  \n",
       "2     NaN     NaN   NaN  \n",
       "3     NaN     NaN   NaN  \n",
       "4     NaN     NaN   NaN  \n",
       "\n",
       "[5 rows x 28 columns]"
      ]
     },
     "execution_count": 4,
     "metadata": {},
     "output_type": "execute_result"
    }
   ],
   "source": [
    "data_test.head()"
   ]
  },
  {
   "cell_type": "markdown",
   "id": "39fda19e",
   "metadata": {},
   "source": [
    "In this project, we'll run learning models on a dataset called \"data\" taken from the \"origen.csv\" file, which contains the \"averageRating\" response variable and 27 other variables. We will then test our models on the \"testear.csv\" dataset called \"data_test\", which does not contain the response variable. The aim is to find a model that maximizes $R^2$."
   ]
  },
  {
   "cell_type": "markdown",
   "id": "f874ae6e",
   "metadata": {},
   "source": [
    "## Cleaning og the dataset"
   ]
  },
  {
   "cell_type": "markdown",
   "id": "13e30e6d",
   "metadata": {},
   "source": [
    "In this section, we are going to clean up the dataset. In fact, when we take a quick look at the data above, we will quickly notice that there's a lot of missing data. This step is essential to ensure that there are no unknown or extreme values, or values that are too difficult to take into account in the learning process.\n",
    "All the work we are going to do on the \"data\" dataset we're also going to do on the \"data_test\" dataset. In fact, both datasets must be configured in the same way if we are to obtain relevant results."
   ]
  },
  {
   "cell_type": "markdown",
   "id": "98137db8",
   "metadata": {},
   "source": [
    "The following function, \"data.info()\", lets us see the number of data items present per variable. This allows us to quickly identify which variables have many missing values."
   ]
  },
  {
   "cell_type": "code",
   "execution_count": 5,
   "id": "e5f59557",
   "metadata": {},
   "outputs": [
    {
     "name": "stdout",
     "output_type": "stream",
     "text": [
      "<class 'pandas.core.frame.DataFrame'>\n",
      "RangeIndex: 977541 entries, 0 to 977540\n",
      "Data columns (total 29 columns):\n",
      " #   Column                Non-Null Count   Dtype  \n",
      "---  ------                --------------   -----  \n",
      " 0   Unnamed: 0            977541 non-null  int64  \n",
      " 1   averageRating         977541 non-null  float64\n",
      " 2   numVotes              977541 non-null  int64  \n",
      " 3   titleType             977541 non-null  object \n",
      " 4   isAdult               977541 non-null  float64\n",
      " 5   startYear             977541 non-null  int64  \n",
      " 6   endYear               977541 non-null  int64  \n",
      " 7   runtimeMinutes        977541 non-null  int64  \n",
      " 8   genres_x              977539 non-null  object \n",
      " 9   directors             977541 non-null  object \n",
      " 10  writers               977541 non-null  object \n",
      " 11  seasonNumber          438243 non-null  float64\n",
      " 12  episodeNumber         438243 non-null  float64\n",
      " 13  ordering              370623 non-null  float64\n",
      " 14  language              370623 non-null  object \n",
      " 15  attributes            370623 non-null  object \n",
      " 16  isOriginalTitle       370623 non-null  float64\n",
      " 17  adult                 47370 non-null   object \n",
      " 18  budget                47370 non-null   float64\n",
      " 19  genres_y              47370 non-null   object \n",
      " 20  original_language     47358 non-null   object \n",
      " 21  popularity            47369 non-null   float64\n",
      " 22  production_companies  47369 non-null   object \n",
      " 23  production_countries  47369 non-null   object \n",
      " 24  revenue               47369 non-null   float64\n",
      " 25  runtime               47158 non-null   float64\n",
      " 26  status                47299 non-null   object \n",
      " 27  tagline               23845 non-null   object \n",
      " 28  video                 47369 non-null   object \n",
      "dtypes: float64(10), int64(5), object(14)\n",
      "memory usage: 216.3+ MB\n"
     ]
    }
   ],
   "source": [
    "data.info()"
   ]
  },
  {
   "cell_type": "markdown",
   "id": "8c948287",
   "metadata": {},
   "source": [
    "The \"data.describe()\" function can be used to quickly describe trends in numerical variables. "
   ]
  },
  {
   "cell_type": "code",
   "execution_count": 6,
   "id": "f285ad0b",
   "metadata": {},
   "outputs": [
    {
     "data": {
      "text/html": [
       "<div>\n",
       "<style scoped>\n",
       "    .dataframe tbody tr th:only-of-type {\n",
       "        vertical-align: middle;\n",
       "    }\n",
       "\n",
       "    .dataframe tbody tr th {\n",
       "        vertical-align: top;\n",
       "    }\n",
       "\n",
       "    .dataframe thead th {\n",
       "        text-align: right;\n",
       "    }\n",
       "</style>\n",
       "<table border=\"1\" class=\"dataframe\">\n",
       "  <thead>\n",
       "    <tr style=\"text-align: right;\">\n",
       "      <th></th>\n",
       "      <th>Unnamed: 0</th>\n",
       "      <th>averageRating</th>\n",
       "      <th>numVotes</th>\n",
       "      <th>isAdult</th>\n",
       "      <th>startYear</th>\n",
       "      <th>endYear</th>\n",
       "      <th>runtimeMinutes</th>\n",
       "      <th>seasonNumber</th>\n",
       "      <th>episodeNumber</th>\n",
       "      <th>ordering</th>\n",
       "      <th>isOriginalTitle</th>\n",
       "      <th>budget</th>\n",
       "      <th>popularity</th>\n",
       "      <th>revenue</th>\n",
       "      <th>runtime</th>\n",
       "    </tr>\n",
       "  </thead>\n",
       "  <tbody>\n",
       "    <tr>\n",
       "      <th>count</th>\n",
       "      <td>977541.000000</td>\n",
       "      <td>977541.000000</td>\n",
       "      <td>9.775410e+05</td>\n",
       "      <td>977541.000000</td>\n",
       "      <td>977541.000000</td>\n",
       "      <td>977541.000000</td>\n",
       "      <td>977541.000000</td>\n",
       "      <td>438243.000000</td>\n",
       "      <td>438243.000000</td>\n",
       "      <td>370623.000000</td>\n",
       "      <td>370623.000000</td>\n",
       "      <td>4.737000e+04</td>\n",
       "      <td>47369.000000</td>\n",
       "      <td>4.736900e+04</td>\n",
       "      <td>47158.000000</td>\n",
       "    </tr>\n",
       "    <tr>\n",
       "      <th>mean</th>\n",
       "      <td>488770.000000</td>\n",
       "      <td>6.881764</td>\n",
       "      <td>1.625621e+03</td>\n",
       "      <td>0.023017</td>\n",
       "      <td>1999.356151</td>\n",
       "      <td>58.196713</td>\n",
       "      <td>41.363622</td>\n",
       "      <td>4.061229</td>\n",
       "      <td>55.341327</td>\n",
       "      <td>3.479414</td>\n",
       "      <td>0.000019</td>\n",
       "      <td>6.180242e+06</td>\n",
       "      <td>3.433752</td>\n",
       "      <td>1.843587e+07</td>\n",
       "      <td>94.437508</td>\n",
       "    </tr>\n",
       "    <tr>\n",
       "      <th>std</th>\n",
       "      <td>282191.924082</td>\n",
       "      <td>1.405315</td>\n",
       "      <td>2.509798e+04</td>\n",
       "      <td>2.888235</td>\n",
       "      <td>34.362292</td>\n",
       "      <td>336.455028</td>\n",
       "      <td>57.788808</td>\n",
       "      <td>12.336583</td>\n",
       "      <td>585.538414</td>\n",
       "      <td>5.148422</td>\n",
       "      <td>0.004346</td>\n",
       "      <td>2.309356e+07</td>\n",
       "      <td>7.120486</td>\n",
       "      <td>9.294434e+07</td>\n",
       "      <td>36.021579</td>\n",
       "    </tr>\n",
       "    <tr>\n",
       "      <th>min</th>\n",
       "      <td>0.000000</td>\n",
       "      <td>1.000000</td>\n",
       "      <td>5.000000e+00</td>\n",
       "      <td>0.000000</td>\n",
       "      <td>0.000000</td>\n",
       "      <td>0.000000</td>\n",
       "      <td>-22336.000000</td>\n",
       "      <td>0.000000</td>\n",
       "      <td>0.000000</td>\n",
       "      <td>1.000000</td>\n",
       "      <td>0.000000</td>\n",
       "      <td>0.000000e+00</td>\n",
       "      <td>0.000000</td>\n",
       "      <td>0.000000e+00</td>\n",
       "      <td>0.000000</td>\n",
       "    </tr>\n",
       "    <tr>\n",
       "      <th>25%</th>\n",
       "      <td>244385.000000</td>\n",
       "      <td>6.100000</td>\n",
       "      <td>9.000000e+00</td>\n",
       "      <td>0.000000</td>\n",
       "      <td>1992.000000</td>\n",
       "      <td>0.000000</td>\n",
       "      <td>0.000000</td>\n",
       "      <td>1.000000</td>\n",
       "      <td>4.000000</td>\n",
       "      <td>1.000000</td>\n",
       "      <td>0.000000</td>\n",
       "      <td>0.000000e+00</td>\n",
       "      <td>0.442903</td>\n",
       "      <td>0.000000e+00</td>\n",
       "      <td>85.000000</td>\n",
       "    </tr>\n",
       "    <tr>\n",
       "      <th>50%</th>\n",
       "      <td>488770.000000</td>\n",
       "      <td>7.100000</td>\n",
       "      <td>2.200000e+01</td>\n",
       "      <td>0.000000</td>\n",
       "      <td>2008.000000</td>\n",
       "      <td>0.000000</td>\n",
       "      <td>27.000000</td>\n",
       "      <td>2.000000</td>\n",
       "      <td>8.000000</td>\n",
       "      <td>2.000000</td>\n",
       "      <td>0.000000</td>\n",
       "      <td>0.000000e+00</td>\n",
       "      <td>1.282498</td>\n",
       "      <td>0.000000e+00</td>\n",
       "      <td>95.000000</td>\n",
       "    </tr>\n",
       "    <tr>\n",
       "      <th>75%</th>\n",
       "      <td>733155.000000</td>\n",
       "      <td>7.900000</td>\n",
       "      <td>9.300000e+01</td>\n",
       "      <td>0.000000</td>\n",
       "      <td>2015.000000</td>\n",
       "      <td>0.000000</td>\n",
       "      <td>73.000000</td>\n",
       "      <td>4.000000</td>\n",
       "      <td>16.000000</td>\n",
       "      <td>3.000000</td>\n",
       "      <td>0.000000</td>\n",
       "      <td>0.000000e+00</td>\n",
       "      <td>4.665202</td>\n",
       "      <td>0.000000e+00</td>\n",
       "      <td>106.000000</td>\n",
       "    </tr>\n",
       "    <tr>\n",
       "      <th>max</th>\n",
       "      <td>977540.000000</td>\n",
       "      <td>10.000000</td>\n",
       "      <td>2.425542e+06</td>\n",
       "      <td>2020.000000</td>\n",
       "      <td>2021.000000</td>\n",
       "      <td>2022.000000</td>\n",
       "      <td>13319.000000</td>\n",
       "      <td>2012.000000</td>\n",
       "      <td>15762.000000</td>\n",
       "      <td>162.000000</td>\n",
       "      <td>1.000000</td>\n",
       "      <td>3.800000e+08</td>\n",
       "      <td>547.488298</td>\n",
       "      <td>2.787965e+09</td>\n",
       "      <td>1256.000000</td>\n",
       "    </tr>\n",
       "  </tbody>\n",
       "</table>\n",
       "</div>"
      ],
      "text/plain": [
       "          Unnamed: 0  averageRating      numVotes        isAdult  \\\n",
       "count  977541.000000  977541.000000  9.775410e+05  977541.000000   \n",
       "mean   488770.000000       6.881764  1.625621e+03       0.023017   \n",
       "std    282191.924082       1.405315  2.509798e+04       2.888235   \n",
       "min         0.000000       1.000000  5.000000e+00       0.000000   \n",
       "25%    244385.000000       6.100000  9.000000e+00       0.000000   \n",
       "50%    488770.000000       7.100000  2.200000e+01       0.000000   \n",
       "75%    733155.000000       7.900000  9.300000e+01       0.000000   \n",
       "max    977540.000000      10.000000  2.425542e+06    2020.000000   \n",
       "\n",
       "           startYear        endYear  runtimeMinutes   seasonNumber  \\\n",
       "count  977541.000000  977541.000000   977541.000000  438243.000000   \n",
       "mean     1999.356151      58.196713       41.363622       4.061229   \n",
       "std        34.362292     336.455028       57.788808      12.336583   \n",
       "min         0.000000       0.000000   -22336.000000       0.000000   \n",
       "25%      1992.000000       0.000000        0.000000       1.000000   \n",
       "50%      2008.000000       0.000000       27.000000       2.000000   \n",
       "75%      2015.000000       0.000000       73.000000       4.000000   \n",
       "max      2021.000000    2022.000000    13319.000000    2012.000000   \n",
       "\n",
       "       episodeNumber       ordering  isOriginalTitle        budget  \\\n",
       "count  438243.000000  370623.000000    370623.000000  4.737000e+04   \n",
       "mean       55.341327       3.479414         0.000019  6.180242e+06   \n",
       "std       585.538414       5.148422         0.004346  2.309356e+07   \n",
       "min         0.000000       1.000000         0.000000  0.000000e+00   \n",
       "25%         4.000000       1.000000         0.000000  0.000000e+00   \n",
       "50%         8.000000       2.000000         0.000000  0.000000e+00   \n",
       "75%        16.000000       3.000000         0.000000  0.000000e+00   \n",
       "max     15762.000000     162.000000         1.000000  3.800000e+08   \n",
       "\n",
       "         popularity       revenue       runtime  \n",
       "count  47369.000000  4.736900e+04  47158.000000  \n",
       "mean       3.433752  1.843587e+07     94.437508  \n",
       "std        7.120486  9.294434e+07     36.021579  \n",
       "min        0.000000  0.000000e+00      0.000000  \n",
       "25%        0.442903  0.000000e+00     85.000000  \n",
       "50%        1.282498  0.000000e+00     95.000000  \n",
       "75%        4.665202  0.000000e+00    106.000000  \n",
       "max      547.488298  2.787965e+09   1256.000000  "
      ]
     },
     "execution_count": 6,
     "metadata": {},
     "output_type": "execute_result"
    }
   ],
   "source": [
    "data.describe()"
   ]
  },
  {
   "cell_type": "code",
   "execution_count": 7,
   "id": "2e27f60b",
   "metadata": {},
   "outputs": [],
   "source": [
    "data = data.set_index('Unnamed: 0') \n",
    "data_test = data_test.set_index('Unnamed: 0') "
   ]
  },
  {
   "cell_type": "markdown",
   "id": "ea75c972",
   "metadata": {},
   "source": [
    "We can see that several variables contain too many Nans. So I decided to delete the variables where more than 75% of the data was Nan. Indeed, with too many Nans, these variables are not interesting to take into account in learning, as they don't contain enough usable information."
   ]
  },
  {
   "cell_type": "code",
   "execution_count": 8,
   "id": "3db8a4fd",
   "metadata": {},
   "outputs": [],
   "source": [
    "missing_percent = (data.isna().sum() / len(data)) * 100\n",
    "\n",
    "# Identifiez les colonnes avec plus de 75% de NaN\n",
    "columns_to_drop = missing_percent[missing_percent > 75].index\n",
    "\n",
    "# Supprimez ces colonnes\n",
    "data = data.drop(columns=columns_to_drop)"
   ]
  },
  {
   "cell_type": "code",
   "execution_count": 9,
   "id": "9dd7d145",
   "metadata": {},
   "outputs": [
    {
     "name": "stdout",
     "output_type": "stream",
     "text": [
      "<class 'pandas.core.frame.DataFrame'>\n",
      "Int64Index: 977541 entries, 0 to 977540\n",
      "Data columns (total 16 columns):\n",
      " #   Column           Non-Null Count   Dtype  \n",
      "---  ------           --------------   -----  \n",
      " 0   averageRating    977541 non-null  float64\n",
      " 1   numVotes         977541 non-null  int64  \n",
      " 2   titleType        977541 non-null  object \n",
      " 3   isAdult          977541 non-null  float64\n",
      " 4   startYear        977541 non-null  int64  \n",
      " 5   endYear          977541 non-null  int64  \n",
      " 6   runtimeMinutes   977541 non-null  int64  \n",
      " 7   genres_x         977539 non-null  object \n",
      " 8   directors        977541 non-null  object \n",
      " 9   writers          977541 non-null  object \n",
      " 10  seasonNumber     438243 non-null  float64\n",
      " 11  episodeNumber    438243 non-null  float64\n",
      " 12  ordering         370623 non-null  float64\n",
      " 13  language         370623 non-null  object \n",
      " 14  attributes       370623 non-null  object \n",
      " 15  isOriginalTitle  370623 non-null  float64\n",
      "dtypes: float64(6), int64(4), object(6)\n",
      "memory usage: 126.8+ MB\n"
     ]
    }
   ],
   "source": [
    "data.info()"
   ]
  },
  {
   "cell_type": "markdown",
   "id": "92937259",
   "metadata": {},
   "source": [
    "We've kept 15 variables in addition to 'averageRating', which is our response variable. We'll now take a closer look at the variables that still contain Nan to see if they can be completed."
   ]
  },
  {
   "cell_type": "code",
   "execution_count": 10,
   "id": "d6793711",
   "metadata": {},
   "outputs": [
    {
     "data": {
      "text/html": [
       "<div>\n",
       "<style scoped>\n",
       "    .dataframe tbody tr th:only-of-type {\n",
       "        vertical-align: middle;\n",
       "    }\n",
       "\n",
       "    .dataframe tbody tr th {\n",
       "        vertical-align: top;\n",
       "    }\n",
       "\n",
       "    .dataframe thead th {\n",
       "        text-align: right;\n",
       "    }\n",
       "</style>\n",
       "<table border=\"1\" class=\"dataframe\">\n",
       "  <thead>\n",
       "    <tr style=\"text-align: right;\">\n",
       "      <th></th>\n",
       "      <th>averageRating</th>\n",
       "      <th>numVotes</th>\n",
       "      <th>isAdult</th>\n",
       "      <th>startYear</th>\n",
       "      <th>endYear</th>\n",
       "      <th>runtimeMinutes</th>\n",
       "      <th>seasonNumber</th>\n",
       "      <th>episodeNumber</th>\n",
       "      <th>ordering</th>\n",
       "      <th>isOriginalTitle</th>\n",
       "    </tr>\n",
       "  </thead>\n",
       "  <tbody>\n",
       "    <tr>\n",
       "      <th>count</th>\n",
       "      <td>977541.000000</td>\n",
       "      <td>9.775410e+05</td>\n",
       "      <td>977541.000000</td>\n",
       "      <td>977541.000000</td>\n",
       "      <td>977541.000000</td>\n",
       "      <td>977541.000000</td>\n",
       "      <td>438243.000000</td>\n",
       "      <td>438243.000000</td>\n",
       "      <td>370623.000000</td>\n",
       "      <td>370623.000000</td>\n",
       "    </tr>\n",
       "    <tr>\n",
       "      <th>mean</th>\n",
       "      <td>6.881764</td>\n",
       "      <td>1.625621e+03</td>\n",
       "      <td>0.023017</td>\n",
       "      <td>1999.356151</td>\n",
       "      <td>58.196713</td>\n",
       "      <td>41.363622</td>\n",
       "      <td>4.061229</td>\n",
       "      <td>55.341327</td>\n",
       "      <td>3.479414</td>\n",
       "      <td>0.000019</td>\n",
       "    </tr>\n",
       "    <tr>\n",
       "      <th>std</th>\n",
       "      <td>1.405315</td>\n",
       "      <td>2.509798e+04</td>\n",
       "      <td>2.888235</td>\n",
       "      <td>34.362292</td>\n",
       "      <td>336.455028</td>\n",
       "      <td>57.788808</td>\n",
       "      <td>12.336583</td>\n",
       "      <td>585.538414</td>\n",
       "      <td>5.148422</td>\n",
       "      <td>0.004346</td>\n",
       "    </tr>\n",
       "    <tr>\n",
       "      <th>min</th>\n",
       "      <td>1.000000</td>\n",
       "      <td>5.000000e+00</td>\n",
       "      <td>0.000000</td>\n",
       "      <td>0.000000</td>\n",
       "      <td>0.000000</td>\n",
       "      <td>-22336.000000</td>\n",
       "      <td>0.000000</td>\n",
       "      <td>0.000000</td>\n",
       "      <td>1.000000</td>\n",
       "      <td>0.000000</td>\n",
       "    </tr>\n",
       "    <tr>\n",
       "      <th>25%</th>\n",
       "      <td>6.100000</td>\n",
       "      <td>9.000000e+00</td>\n",
       "      <td>0.000000</td>\n",
       "      <td>1992.000000</td>\n",
       "      <td>0.000000</td>\n",
       "      <td>0.000000</td>\n",
       "      <td>1.000000</td>\n",
       "      <td>4.000000</td>\n",
       "      <td>1.000000</td>\n",
       "      <td>0.000000</td>\n",
       "    </tr>\n",
       "    <tr>\n",
       "      <th>50%</th>\n",
       "      <td>7.100000</td>\n",
       "      <td>2.200000e+01</td>\n",
       "      <td>0.000000</td>\n",
       "      <td>2008.000000</td>\n",
       "      <td>0.000000</td>\n",
       "      <td>27.000000</td>\n",
       "      <td>2.000000</td>\n",
       "      <td>8.000000</td>\n",
       "      <td>2.000000</td>\n",
       "      <td>0.000000</td>\n",
       "    </tr>\n",
       "    <tr>\n",
       "      <th>75%</th>\n",
       "      <td>7.900000</td>\n",
       "      <td>9.300000e+01</td>\n",
       "      <td>0.000000</td>\n",
       "      <td>2015.000000</td>\n",
       "      <td>0.000000</td>\n",
       "      <td>73.000000</td>\n",
       "      <td>4.000000</td>\n",
       "      <td>16.000000</td>\n",
       "      <td>3.000000</td>\n",
       "      <td>0.000000</td>\n",
       "    </tr>\n",
       "    <tr>\n",
       "      <th>max</th>\n",
       "      <td>10.000000</td>\n",
       "      <td>2.425542e+06</td>\n",
       "      <td>2020.000000</td>\n",
       "      <td>2021.000000</td>\n",
       "      <td>2022.000000</td>\n",
       "      <td>13319.000000</td>\n",
       "      <td>2012.000000</td>\n",
       "      <td>15762.000000</td>\n",
       "      <td>162.000000</td>\n",
       "      <td>1.000000</td>\n",
       "    </tr>\n",
       "  </tbody>\n",
       "</table>\n",
       "</div>"
      ],
      "text/plain": [
       "       averageRating      numVotes        isAdult      startYear  \\\n",
       "count  977541.000000  9.775410e+05  977541.000000  977541.000000   \n",
       "mean        6.881764  1.625621e+03       0.023017    1999.356151   \n",
       "std         1.405315  2.509798e+04       2.888235      34.362292   \n",
       "min         1.000000  5.000000e+00       0.000000       0.000000   \n",
       "25%         6.100000  9.000000e+00       0.000000    1992.000000   \n",
       "50%         7.100000  2.200000e+01       0.000000    2008.000000   \n",
       "75%         7.900000  9.300000e+01       0.000000    2015.000000   \n",
       "max        10.000000  2.425542e+06    2020.000000    2021.000000   \n",
       "\n",
       "             endYear  runtimeMinutes   seasonNumber  episodeNumber  \\\n",
       "count  977541.000000   977541.000000  438243.000000  438243.000000   \n",
       "mean       58.196713       41.363622       4.061229      55.341327   \n",
       "std       336.455028       57.788808      12.336583     585.538414   \n",
       "min         0.000000   -22336.000000       0.000000       0.000000   \n",
       "25%         0.000000        0.000000       1.000000       4.000000   \n",
       "50%         0.000000       27.000000       2.000000       8.000000   \n",
       "75%         0.000000       73.000000       4.000000      16.000000   \n",
       "max      2022.000000    13319.000000    2012.000000   15762.000000   \n",
       "\n",
       "            ordering  isOriginalTitle  \n",
       "count  370623.000000    370623.000000  \n",
       "mean        3.479414         0.000019  \n",
       "std         5.148422         0.004346  \n",
       "min         1.000000         0.000000  \n",
       "25%         1.000000         0.000000  \n",
       "50%         2.000000         0.000000  \n",
       "75%         3.000000         0.000000  \n",
       "max       162.000000         1.000000  "
      ]
     },
     "execution_count": 10,
     "metadata": {},
     "output_type": "execute_result"
    }
   ],
   "source": [
    "data.describe()"
   ]
  },
  {
   "cell_type": "markdown",
   "id": "08dfcb0b",
   "metadata": {},
   "source": [
    "Here we can see that in the \"isAdult\" variable there's a maximum value that seems to be extreme. Let's take a look at the data distribution of this variable."
   ]
  },
  {
   "cell_type": "code",
   "execution_count": 11,
   "id": "187cb1e3",
   "metadata": {},
   "outputs": [
    {
     "name": "stdout",
     "output_type": "stream",
     "text": [
      "0.0       959073\n",
      "1.0        18466\n",
      "2014.0         1\n",
      "2020.0         1\n",
      "Name: isAdult, dtype: int64\n"
     ]
    }
   ],
   "source": [
    "print(data['isAdult'].value_counts())"
   ]
  },
  {
   "cell_type": "markdown",
   "id": "949c2fb7",
   "metadata": {},
   "source": [
    "Here, two values seem extreme, so we'll remove them."
   ]
  },
  {
   "cell_type": "code",
   "execution_count": 12,
   "id": "3a534a3c",
   "metadata": {},
   "outputs": [
    {
     "name": "stdout",
     "output_type": "stream",
     "text": [
      "0.0    959073\n",
      "1.0     18466\n",
      "Name: isAdult, dtype: int64\n"
     ]
    }
   ],
   "source": [
    "data = data[(data['isAdult'] == 0) | (data['isAdult'] == 1)]\n",
    "data_test = data_test[(data_test['isAdult'] == 0) | (data_test['isAdult'] == 1)]\n",
    "print(data['isAdult'].value_counts())"
   ]
  },
  {
   "cell_type": "code",
   "execution_count": 13,
   "id": "adf358cb",
   "metadata": {},
   "outputs": [],
   "source": [
    "data['isAdult'] = data['isAdult'].astype(str)\n",
    "data_test['isAdult'] = data_test['isAdult'].astype(str)"
   ]
  },
  {
   "cell_type": "code",
   "execution_count": 14,
   "id": "1edab1f6",
   "metadata": {},
   "outputs": [
    {
     "name": "stdout",
     "output_type": "stream",
     "text": [
      "<class 'pandas.core.frame.DataFrame'>\n",
      "Int64Index: 977539 entries, 0 to 977540\n",
      "Data columns (total 16 columns):\n",
      " #   Column           Non-Null Count   Dtype  \n",
      "---  ------           --------------   -----  \n",
      " 0   averageRating    977539 non-null  float64\n",
      " 1   numVotes         977539 non-null  int64  \n",
      " 2   titleType        977539 non-null  object \n",
      " 3   isAdult          977539 non-null  object \n",
      " 4   startYear        977539 non-null  int64  \n",
      " 5   endYear          977539 non-null  int64  \n",
      " 6   runtimeMinutes   977539 non-null  int64  \n",
      " 7   genres_x         977539 non-null  object \n",
      " 8   directors        977539 non-null  object \n",
      " 9   writers          977539 non-null  object \n",
      " 10  seasonNumber     438241 non-null  float64\n",
      " 11  episodeNumber    438241 non-null  float64\n",
      " 12  ordering         370623 non-null  float64\n",
      " 13  language         370623 non-null  object \n",
      " 14  attributes       370623 non-null  object \n",
      " 15  isOriginalTitle  370623 non-null  float64\n",
      "dtypes: float64(5), int64(4), object(7)\n",
      "memory usage: 126.8+ MB\n"
     ]
    }
   ],
   "source": [
    "data.info()"
   ]
  },
  {
   "cell_type": "markdown",
   "id": "a4c930b4",
   "metadata": {},
   "source": [
    "We will now work on the \"seasonNumber\" and \"episodeNumber\" variables. These variables contain many Nans, but can be completed by logical reasoning. First, we will look at the different video categories in the database."
   ]
  },
  {
   "cell_type": "code",
   "execution_count": 15,
   "id": "056762d8",
   "metadata": {},
   "outputs": [
    {
     "name": "stdout",
     "output_type": "stream",
     "text": [
      "['movie' 'tvSeries' 'tvEpisode' 'short' 'video' 'tvSpecial' 'tvMovie'\n",
      " 'tvMiniSeries' 'videoGame' 'tvShort']\n"
     ]
    }
   ],
   "source": [
    "category = data['titleType'].unique()\n",
    "print(category)"
   ]
  },
  {
   "cell_type": "markdown",
   "id": "f67b53e0",
   "metadata": {},
   "source": [
    "We can now consider that for videos of type 'movie', 'video', 'tvSpecial', 'tvMovie' or 'videoGame', if the number of episodes is not indicated, we can set it to 1, as these categories suggest that there is only one episode. For the rest of the categories, we'll use the median number of episodes. Similarly, for these categories, the number of seasons is assumed to be 0 if not indicated. "
   ]
  },
  {
   "cell_type": "code",
   "execution_count": 16,
   "id": "16eeab7f",
   "metadata": {},
   "outputs": [
    {
     "data": {
      "text/plain": [
       "7.0"
      ]
     },
     "execution_count": 16,
     "metadata": {},
     "output_type": "execute_result"
    }
   ],
   "source": [
    "oneseason=data[data['seasonNumber']==1]\n",
    "median=oneseason[\"episodeNumber\"].dropna().median()\n",
    "median"
   ]
  },
  {
   "cell_type": "code",
   "execution_count": 17,
   "id": "5864ac3e",
   "metadata": {},
   "outputs": [
    {
     "data": {
      "text/plain": [
       "7.0"
      ]
     },
     "execution_count": 17,
     "metadata": {},
     "output_type": "execute_result"
    }
   ],
   "source": [
    "oneseason = data_test[data_test['seasonNumber']==1]\n",
    "median=oneseason[\"episodeNumber\"].dropna().median()\n",
    "median"
   ]
  },
  {
   "cell_type": "code",
   "execution_count": 18,
   "id": "a94d0b8d",
   "metadata": {},
   "outputs": [],
   "source": [
    "# Fonction to replace NaN in episodeNumber\n",
    "def replace_nan_episode(row):\n",
    "    if row['titleType'] in ['movie', 'video', 'tvSpecial', 'tvMovie', 'videoGame'] and pd.isna(row['episodeNumber']):\n",
    "        return 1\n",
    "    else:\n",
    "        return 7"
   ]
  },
  {
   "cell_type": "code",
   "execution_count": 19,
   "id": "a679a384",
   "metadata": {},
   "outputs": [],
   "source": [
    "# Fonction to replace NaN in seasonNumber\n",
    "def replace_nan_season(row):\n",
    "    if row['titleType'] in ['movie', 'video', 'tvSpecial', 'tvMovie', 'videoGame'] and pd.isna(row['seasonNumber']):\n",
    "        return 0\n",
    "    else:\n",
    "        return 1"
   ]
  },
  {
   "cell_type": "markdown",
   "id": "18d3b58f",
   "metadata": {},
   "source": [
    "We can now apply these functions to our \"data\" and \"data_test\" datasets."
   ]
  },
  {
   "cell_type": "code",
   "execution_count": 20,
   "id": "f6477f27",
   "metadata": {},
   "outputs": [],
   "source": [
    "data['episodeNumber'] = data.apply(replace_nan_episode, axis=1)\n",
    "data['seasonNumber'] = data.apply(replace_nan_season, axis=1)\n",
    "\n",
    "data_test['episodeNumber'] = data_test.apply(replace_nan_episode, axis=1)\n",
    "data_test['seasonNumber'] = data_test.apply(replace_nan_season, axis=1)"
   ]
  },
  {
   "cell_type": "code",
   "execution_count": 21,
   "id": "c7d1b589",
   "metadata": {},
   "outputs": [
    {
     "name": "stdout",
     "output_type": "stream",
     "text": [
      "<class 'pandas.core.frame.DataFrame'>\n",
      "Int64Index: 977539 entries, 0 to 977540\n",
      "Data columns (total 16 columns):\n",
      " #   Column           Non-Null Count   Dtype  \n",
      "---  ------           --------------   -----  \n",
      " 0   averageRating    977539 non-null  float64\n",
      " 1   numVotes         977539 non-null  int64  \n",
      " 2   titleType        977539 non-null  object \n",
      " 3   isAdult          977539 non-null  object \n",
      " 4   startYear        977539 non-null  int64  \n",
      " 5   endYear          977539 non-null  int64  \n",
      " 6   runtimeMinutes   977539 non-null  int64  \n",
      " 7   genres_x         977539 non-null  object \n",
      " 8   directors        977539 non-null  object \n",
      " 9   writers          977539 non-null  object \n",
      " 10  seasonNumber     977539 non-null  int64  \n",
      " 11  episodeNumber    977539 non-null  int64  \n",
      " 12  ordering         370623 non-null  float64\n",
      " 13  language         370623 non-null  object \n",
      " 14  attributes       370623 non-null  object \n",
      " 15  isOriginalTitle  370623 non-null  float64\n",
      "dtypes: float64(3), int64(6), object(7)\n",
      "memory usage: 126.8+ MB\n"
     ]
    }
   ],
   "source": [
    "data.info()"
   ]
  },
  {
   "cell_type": "markdown",
   "id": "3e6c543e",
   "metadata": {},
   "source": [
    "There is no Nan left in \"episodeNumber\" or \"seasonNumber\"."
   ]
  },
  {
   "cell_type": "markdown",
   "id": "854da2c8",
   "metadata": {},
   "source": [
    "We're now going to work on the \"directors\" and \"writers\" variables. These variables are special in that they are categorical and can also contain one or more director or writer identifiers. In fact, a film can be written and directed by one or more people."
   ]
  },
  {
   "cell_type": "markdown",
   "id": "722dcdc8",
   "metadata": {},
   "source": [
    "Let's see how many directors and writers there are in all in the dataset."
   ]
  },
  {
   "cell_type": "code",
   "execution_count": 22,
   "id": "90f77f6e",
   "metadata": {},
   "outputs": [
    {
     "name": "stdout",
     "output_type": "stream",
     "text": [
      "number of directors 240557\n",
      "number of writers 398877\n"
     ]
    }
   ],
   "source": [
    "print(\"number of directors \" + str(len(data['directors'].unique())))\n",
    "print(\"number of writers \" + str(len(data['writers'].unique())))"
   ]
  },
  {
   "cell_type": "markdown",
   "id": "261614de",
   "metadata": {},
   "source": [
    "Here, the number of directors and ecrain is far too great. So we can't create a category for each different name and put a 1 or 0 if the identifier is actually the director or writer of the video. So we'll consider the first director or writer to be the most important, and keep only that one. "
   ]
  },
  {
   "cell_type": "code",
   "execution_count": 23,
   "id": "8cf31899",
   "metadata": {},
   "outputs": [],
   "source": [
    "columns_to_clean = ['directors', 'writers']\n",
    "\n",
    "for column in columns_to_clean:\n",
    "    data[column] = data[column].str.lstrip('nm')\n",
    "    data[column] = data[column].str.split(',').str[0]\n",
    "    \n",
    "    data_test[column] = data_test[column].str.lstrip('nm')\n",
    "    data_test[column] = data_test[column].str.split(',').str[0]\n"
   ]
  },
  {
   "cell_type": "code",
   "execution_count": 24,
   "id": "bab08cd4",
   "metadata": {},
   "outputs": [
    {
     "name": "stdout",
     "output_type": "stream",
     "text": [
      "           directors  writers\n",
      "Unnamed: 0                   \n",
      "0            0883334  0844784\n",
      "1            2291816  1707665\n",
      "2            0414025  0414025\n",
      "3            2977268  2977268\n",
      "4            2366663  4290500\n",
      "...              ...      ...\n",
      "977536       0215126  0215126\n",
      "977537       0235066  0496468\n",
      "977538             0        0\n",
      "977539       0290882  0009312\n",
      "977540       1707462  0052218\n",
      "\n",
      "[977539 rows x 2 columns]\n"
     ]
    }
   ],
   "source": [
    "print(data[['directors','writers']])"
   ]
  },
  {
   "cell_type": "markdown",
   "id": "6cd1a12f",
   "metadata": {},
   "source": [
    "For the \"ordering\" variable, I replace Nan with the average."
   ]
  },
  {
   "cell_type": "code",
   "execution_count": 25,
   "id": "31d261ee",
   "metadata": {},
   "outputs": [],
   "source": [
    "mean_ordering = int(data['ordering'].mean())\n",
    "data['ordering'].fillna(mean_ordering, inplace=True)"
   ]
  },
  {
   "cell_type": "code",
   "execution_count": 26,
   "id": "4656d980",
   "metadata": {},
   "outputs": [],
   "source": [
    "mean_ordering_test = int(data_test['ordering'].mean())\n",
    "data_test['ordering'].fillna(mean_ordering_test, inplace=True)"
   ]
  },
  {
   "cell_type": "code",
   "execution_count": 27,
   "id": "a7566ef8",
   "metadata": {},
   "outputs": [
    {
     "data": {
      "text/html": [
       "<div>\n",
       "<style scoped>\n",
       "    .dataframe tbody tr th:only-of-type {\n",
       "        vertical-align: middle;\n",
       "    }\n",
       "\n",
       "    .dataframe tbody tr th {\n",
       "        vertical-align: top;\n",
       "    }\n",
       "\n",
       "    .dataframe thead th {\n",
       "        text-align: right;\n",
       "    }\n",
       "</style>\n",
       "<table border=\"1\" class=\"dataframe\">\n",
       "  <thead>\n",
       "    <tr style=\"text-align: right;\">\n",
       "      <th></th>\n",
       "      <th>averageRating</th>\n",
       "      <th>numVotes</th>\n",
       "      <th>titleType</th>\n",
       "      <th>isAdult</th>\n",
       "      <th>startYear</th>\n",
       "      <th>endYear</th>\n",
       "      <th>runtimeMinutes</th>\n",
       "      <th>genres_x</th>\n",
       "      <th>directors</th>\n",
       "      <th>writers</th>\n",
       "      <th>seasonNumber</th>\n",
       "      <th>episodeNumber</th>\n",
       "      <th>ordering</th>\n",
       "      <th>language</th>\n",
       "      <th>attributes</th>\n",
       "      <th>isOriginalTitle</th>\n",
       "    </tr>\n",
       "    <tr>\n",
       "      <th>Unnamed: 0</th>\n",
       "      <th></th>\n",
       "      <th></th>\n",
       "      <th></th>\n",
       "      <th></th>\n",
       "      <th></th>\n",
       "      <th></th>\n",
       "      <th></th>\n",
       "      <th></th>\n",
       "      <th></th>\n",
       "      <th></th>\n",
       "      <th></th>\n",
       "      <th></th>\n",
       "      <th></th>\n",
       "      <th></th>\n",
       "      <th></th>\n",
       "      <th></th>\n",
       "    </tr>\n",
       "  </thead>\n",
       "  <tbody>\n",
       "    <tr>\n",
       "      <th>0</th>\n",
       "      <td>4.4</td>\n",
       "      <td>15</td>\n",
       "      <td>movie</td>\n",
       "      <td>0.0</td>\n",
       "      <td>1951</td>\n",
       "      <td>0</td>\n",
       "      <td>91</td>\n",
       "      <td>Comedy,Musical</td>\n",
       "      <td>0883334</td>\n",
       "      <td>0844784</td>\n",
       "      <td>0</td>\n",
       "      <td>1</td>\n",
       "      <td>3.0</td>\n",
       "      <td>NaN</td>\n",
       "      <td>NaN</td>\n",
       "      <td>NaN</td>\n",
       "    </tr>\n",
       "    <tr>\n",
       "      <th>1</th>\n",
       "      <td>7.0</td>\n",
       "      <td>990</td>\n",
       "      <td>tvSeries</td>\n",
       "      <td>0.0</td>\n",
       "      <td>2007</td>\n",
       "      <td>2021</td>\n",
       "      <td>30</td>\n",
       "      <td>Action,Adventure,Animation</td>\n",
       "      <td>2291816</td>\n",
       "      <td>1707665</td>\n",
       "      <td>1</td>\n",
       "      <td>7</td>\n",
       "      <td>5.0</td>\n",
       "      <td>0</td>\n",
       "      <td>0</td>\n",
       "      <td>0.0</td>\n",
       "    </tr>\n",
       "    <tr>\n",
       "      <th>2</th>\n",
       "      <td>8.1</td>\n",
       "      <td>41</td>\n",
       "      <td>tvEpisode</td>\n",
       "      <td>0.0</td>\n",
       "      <td>2011</td>\n",
       "      <td>0</td>\n",
       "      <td>44</td>\n",
       "      <td>Documentary,History,War</td>\n",
       "      <td>0414025</td>\n",
       "      <td>0414025</td>\n",
       "      <td>1</td>\n",
       "      <td>7</td>\n",
       "      <td>3.0</td>\n",
       "      <td>NaN</td>\n",
       "      <td>NaN</td>\n",
       "      <td>NaN</td>\n",
       "    </tr>\n",
       "    <tr>\n",
       "      <th>3</th>\n",
       "      <td>4.6</td>\n",
       "      <td>48</td>\n",
       "      <td>movie</td>\n",
       "      <td>0.0</td>\n",
       "      <td>1969</td>\n",
       "      <td>0</td>\n",
       "      <td>84</td>\n",
       "      <td>Drama</td>\n",
       "      <td>2977268</td>\n",
       "      <td>2977268</td>\n",
       "      <td>0</td>\n",
       "      <td>1</td>\n",
       "      <td>5.0</td>\n",
       "      <td>0</td>\n",
       "      <td>0</td>\n",
       "      <td>0.0</td>\n",
       "    </tr>\n",
       "    <tr>\n",
       "      <th>4</th>\n",
       "      <td>5.6</td>\n",
       "      <td>28</td>\n",
       "      <td>movie</td>\n",
       "      <td>0.0</td>\n",
       "      <td>2010</td>\n",
       "      <td>0</td>\n",
       "      <td>130</td>\n",
       "      <td>Comedy,Drama</td>\n",
       "      <td>2366663</td>\n",
       "      <td>4290500</td>\n",
       "      <td>0</td>\n",
       "      <td>1</td>\n",
       "      <td>3.0</td>\n",
       "      <td>NaN</td>\n",
       "      <td>NaN</td>\n",
       "      <td>NaN</td>\n",
       "    </tr>\n",
       "  </tbody>\n",
       "</table>\n",
       "</div>"
      ],
      "text/plain": [
       "            averageRating  numVotes  titleType isAdult  startYear  endYear  \\\n",
       "Unnamed: 0                                                                   \n",
       "0                     4.4        15      movie     0.0       1951        0   \n",
       "1                     7.0       990   tvSeries     0.0       2007     2021   \n",
       "2                     8.1        41  tvEpisode     0.0       2011        0   \n",
       "3                     4.6        48      movie     0.0       1969        0   \n",
       "4                     5.6        28      movie     0.0       2010        0   \n",
       "\n",
       "            runtimeMinutes                    genres_x directors  writers  \\\n",
       "Unnamed: 0                                                                  \n",
       "0                       91              Comedy,Musical   0883334  0844784   \n",
       "1                       30  Action,Adventure,Animation   2291816  1707665   \n",
       "2                       44     Documentary,History,War   0414025  0414025   \n",
       "3                       84                       Drama   2977268  2977268   \n",
       "4                      130                Comedy,Drama   2366663  4290500   \n",
       "\n",
       "            seasonNumber  episodeNumber  ordering language attributes  \\\n",
       "Unnamed: 0                                                              \n",
       "0                      0              1       3.0      NaN        NaN   \n",
       "1                      1              7       5.0        0          0   \n",
       "2                      1              7       3.0      NaN        NaN   \n",
       "3                      0              1       5.0        0          0   \n",
       "4                      0              1       3.0      NaN        NaN   \n",
       "\n",
       "            isOriginalTitle  \n",
       "Unnamed: 0                   \n",
       "0                       NaN  \n",
       "1                       0.0  \n",
       "2                       NaN  \n",
       "3                       0.0  \n",
       "4                       NaN  "
      ]
     },
     "execution_count": 27,
     "metadata": {},
     "output_type": "execute_result"
    }
   ],
   "source": [
    "data.head()"
   ]
  },
  {
   "cell_type": "code",
   "execution_count": 28,
   "id": "bcfbe2a2",
   "metadata": {},
   "outputs": [
    {
     "name": "stdout",
     "output_type": "stream",
     "text": [
      "<class 'pandas.core.frame.DataFrame'>\n",
      "Int64Index: 977539 entries, 0 to 977540\n",
      "Data columns (total 16 columns):\n",
      " #   Column           Non-Null Count   Dtype  \n",
      "---  ------           --------------   -----  \n",
      " 0   averageRating    977539 non-null  float64\n",
      " 1   numVotes         977539 non-null  int64  \n",
      " 2   titleType        977539 non-null  object \n",
      " 3   isAdult          977539 non-null  object \n",
      " 4   startYear        977539 non-null  int64  \n",
      " 5   endYear          977539 non-null  int64  \n",
      " 6   runtimeMinutes   977539 non-null  int64  \n",
      " 7   genres_x         977539 non-null  object \n",
      " 8   directors        977539 non-null  object \n",
      " 9   writers          977539 non-null  object \n",
      " 10  seasonNumber     977539 non-null  int64  \n",
      " 11  episodeNumber    977539 non-null  int64  \n",
      " 12  ordering         977539 non-null  float64\n",
      " 13  language         370623 non-null  object \n",
      " 14  attributes       370623 non-null  object \n",
      " 15  isOriginalTitle  370623 non-null  float64\n",
      "dtypes: float64(3), int64(6), object(7)\n",
      "memory usage: 126.8+ MB\n"
     ]
    }
   ],
   "source": [
    "data.info()"
   ]
  },
  {
   "cell_type": "markdown",
   "id": "fac8710c",
   "metadata": {},
   "source": [
    "There are still 3 variables with Nan. As I'm not sure how to complete them, I prefer to delete them. So I delete 'language' , 'attributes' and 'isOriginalTitle'."
   ]
  },
  {
   "cell_type": "code",
   "execution_count": 29,
   "id": "76b071e3",
   "metadata": {},
   "outputs": [],
   "source": [
    "data = data[['averageRating','numVotes','titleType','isAdult','startYear','endYear','runtimeMinutes','genres_x','directors','writers',\n",
    "                'seasonNumber','episodeNumber','ordering']]"
   ]
  },
  {
   "cell_type": "code",
   "execution_count": 30,
   "id": "db9e83ad",
   "metadata": {},
   "outputs": [
    {
     "data": {
      "text/plain": [
       "['numVotes',\n",
       " 'titleType',\n",
       " 'isAdult',\n",
       " 'startYear',\n",
       " 'endYear',\n",
       " 'runtimeMinutes',\n",
       " 'genres_x',\n",
       " 'directors',\n",
       " 'writers',\n",
       " 'seasonNumber',\n",
       " 'episodeNumber',\n",
       " 'ordering']"
      ]
     },
     "execution_count": 30,
     "metadata": {},
     "output_type": "execute_result"
    }
   ],
   "source": [
    "columns_names = data.columns.tolist()\n",
    "column_to_remove = 'averageRating'\n",
    "\n",
    "if column_to_remove in columns_names:\n",
    "    columns_names.remove(column_to_remove)\n",
    "\n",
    "columns_names"
   ]
  },
  {
   "cell_type": "code",
   "execution_count": 31,
   "id": "fd14b5d2",
   "metadata": {},
   "outputs": [],
   "source": [
    "data_test = data_test[columns_names]"
   ]
  },
  {
   "cell_type": "code",
   "execution_count": 32,
   "id": "8cc59a07",
   "metadata": {},
   "outputs": [
    {
     "data": {
      "text/html": [
       "<div>\n",
       "<style scoped>\n",
       "    .dataframe tbody tr th:only-of-type {\n",
       "        vertical-align: middle;\n",
       "    }\n",
       "\n",
       "    .dataframe tbody tr th {\n",
       "        vertical-align: top;\n",
       "    }\n",
       "\n",
       "    .dataframe thead th {\n",
       "        text-align: right;\n",
       "    }\n",
       "</style>\n",
       "<table border=\"1\" class=\"dataframe\">\n",
       "  <thead>\n",
       "    <tr style=\"text-align: right;\">\n",
       "      <th></th>\n",
       "      <th>averageRating</th>\n",
       "      <th>numVotes</th>\n",
       "      <th>titleType</th>\n",
       "      <th>isAdult</th>\n",
       "      <th>startYear</th>\n",
       "      <th>endYear</th>\n",
       "      <th>runtimeMinutes</th>\n",
       "      <th>genres_x</th>\n",
       "      <th>directors</th>\n",
       "      <th>writers</th>\n",
       "      <th>seasonNumber</th>\n",
       "      <th>episodeNumber</th>\n",
       "      <th>ordering</th>\n",
       "    </tr>\n",
       "    <tr>\n",
       "      <th>Unnamed: 0</th>\n",
       "      <th></th>\n",
       "      <th></th>\n",
       "      <th></th>\n",
       "      <th></th>\n",
       "      <th></th>\n",
       "      <th></th>\n",
       "      <th></th>\n",
       "      <th></th>\n",
       "      <th></th>\n",
       "      <th></th>\n",
       "      <th></th>\n",
       "      <th></th>\n",
       "      <th></th>\n",
       "    </tr>\n",
       "  </thead>\n",
       "  <tbody>\n",
       "    <tr>\n",
       "      <th>0</th>\n",
       "      <td>4.4</td>\n",
       "      <td>15</td>\n",
       "      <td>movie</td>\n",
       "      <td>0.0</td>\n",
       "      <td>1951</td>\n",
       "      <td>0</td>\n",
       "      <td>91</td>\n",
       "      <td>Comedy,Musical</td>\n",
       "      <td>0883334</td>\n",
       "      <td>0844784</td>\n",
       "      <td>0</td>\n",
       "      <td>1</td>\n",
       "      <td>3.0</td>\n",
       "    </tr>\n",
       "    <tr>\n",
       "      <th>1</th>\n",
       "      <td>7.0</td>\n",
       "      <td>990</td>\n",
       "      <td>tvSeries</td>\n",
       "      <td>0.0</td>\n",
       "      <td>2007</td>\n",
       "      <td>2021</td>\n",
       "      <td>30</td>\n",
       "      <td>Action,Adventure,Animation</td>\n",
       "      <td>2291816</td>\n",
       "      <td>1707665</td>\n",
       "      <td>1</td>\n",
       "      <td>7</td>\n",
       "      <td>5.0</td>\n",
       "    </tr>\n",
       "    <tr>\n",
       "      <th>2</th>\n",
       "      <td>8.1</td>\n",
       "      <td>41</td>\n",
       "      <td>tvEpisode</td>\n",
       "      <td>0.0</td>\n",
       "      <td>2011</td>\n",
       "      <td>0</td>\n",
       "      <td>44</td>\n",
       "      <td>Documentary,History,War</td>\n",
       "      <td>0414025</td>\n",
       "      <td>0414025</td>\n",
       "      <td>1</td>\n",
       "      <td>7</td>\n",
       "      <td>3.0</td>\n",
       "    </tr>\n",
       "    <tr>\n",
       "      <th>3</th>\n",
       "      <td>4.6</td>\n",
       "      <td>48</td>\n",
       "      <td>movie</td>\n",
       "      <td>0.0</td>\n",
       "      <td>1969</td>\n",
       "      <td>0</td>\n",
       "      <td>84</td>\n",
       "      <td>Drama</td>\n",
       "      <td>2977268</td>\n",
       "      <td>2977268</td>\n",
       "      <td>0</td>\n",
       "      <td>1</td>\n",
       "      <td>5.0</td>\n",
       "    </tr>\n",
       "    <tr>\n",
       "      <th>4</th>\n",
       "      <td>5.6</td>\n",
       "      <td>28</td>\n",
       "      <td>movie</td>\n",
       "      <td>0.0</td>\n",
       "      <td>2010</td>\n",
       "      <td>0</td>\n",
       "      <td>130</td>\n",
       "      <td>Comedy,Drama</td>\n",
       "      <td>2366663</td>\n",
       "      <td>4290500</td>\n",
       "      <td>0</td>\n",
       "      <td>1</td>\n",
       "      <td>3.0</td>\n",
       "    </tr>\n",
       "  </tbody>\n",
       "</table>\n",
       "</div>"
      ],
      "text/plain": [
       "            averageRating  numVotes  titleType isAdult  startYear  endYear  \\\n",
       "Unnamed: 0                                                                   \n",
       "0                     4.4        15      movie     0.0       1951        0   \n",
       "1                     7.0       990   tvSeries     0.0       2007     2021   \n",
       "2                     8.1        41  tvEpisode     0.0       2011        0   \n",
       "3                     4.6        48      movie     0.0       1969        0   \n",
       "4                     5.6        28      movie     0.0       2010        0   \n",
       "\n",
       "            runtimeMinutes                    genres_x directors  writers  \\\n",
       "Unnamed: 0                                                                  \n",
       "0                       91              Comedy,Musical   0883334  0844784   \n",
       "1                       30  Action,Adventure,Animation   2291816  1707665   \n",
       "2                       44     Documentary,History,War   0414025  0414025   \n",
       "3                       84                       Drama   2977268  2977268   \n",
       "4                      130                Comedy,Drama   2366663  4290500   \n",
       "\n",
       "            seasonNumber  episodeNumber  ordering  \n",
       "Unnamed: 0                                         \n",
       "0                      0              1       3.0  \n",
       "1                      1              7       5.0  \n",
       "2                      1              7       3.0  \n",
       "3                      0              1       5.0  \n",
       "4                      0              1       3.0  "
      ]
     },
     "execution_count": 32,
     "metadata": {},
     "output_type": "execute_result"
    }
   ],
   "source": [
    "data.head()"
   ]
  },
  {
   "cell_type": "markdown",
   "id": "e41faa58",
   "metadata": {},
   "source": [
    "We check that there are no more missing values in our two datasets."
   ]
  },
  {
   "cell_type": "code",
   "execution_count": 33,
   "id": "33825833",
   "metadata": {},
   "outputs": [
    {
     "data": {
      "text/plain": [
       "averageRating     0\n",
       "numVotes          0\n",
       "titleType         0\n",
       "isAdult           0\n",
       "startYear         0\n",
       "endYear           0\n",
       "runtimeMinutes    0\n",
       "genres_x          0\n",
       "directors         0\n",
       "writers           0\n",
       "seasonNumber      0\n",
       "episodeNumber     0\n",
       "ordering          0\n",
       "dtype: int64"
      ]
     },
     "execution_count": 33,
     "metadata": {},
     "output_type": "execute_result"
    }
   ],
   "source": [
    "missing_values = data.isna()\n",
    "missing_count = missing_values.sum()\n",
    "missing_count"
   ]
  },
  {
   "cell_type": "code",
   "execution_count": 34,
   "id": "b51397ec",
   "metadata": {},
   "outputs": [
    {
     "data": {
      "text/plain": [
       "numVotes          0\n",
       "titleType         0\n",
       "isAdult           0\n",
       "startYear         0\n",
       "endYear           0\n",
       "runtimeMinutes    0\n",
       "genres_x          0\n",
       "directors         0\n",
       "writers           0\n",
       "seasonNumber      0\n",
       "episodeNumber     0\n",
       "ordering          0\n",
       "dtype: int64"
      ]
     },
     "execution_count": 34,
     "metadata": {},
     "output_type": "execute_result"
    }
   ],
   "source": [
    "missing_values = data_test.isna()\n",
    "missing_count = missing_values.sum()\n",
    "missing_count"
   ]
  },
  {
   "cell_type": "markdown",
   "id": "ca06ed68",
   "metadata": {},
   "source": [
    "Our datasets are now clean and Nan-free. We have now only 12 variables."
   ]
  },
  {
   "cell_type": "markdown",
   "id": "0a361390",
   "metadata": {},
   "source": [
    "We are now going to work on categorical variables that can be easily encoded. "
   ]
  },
  {
   "cell_type": "code",
   "execution_count": 35,
   "id": "a9b40e4f",
   "metadata": {},
   "outputs": [
    {
     "name": "stdout",
     "output_type": "stream",
     "text": [
      "['movie' 'tvSeries' 'tvEpisode' 'short' 'video' 'tvSpecial' 'tvMovie'\n",
      " 'tvMiniSeries' 'videoGame' 'tvShort']\n"
     ]
    }
   ],
   "source": [
    "category = data['titleType'].unique()\n",
    "print(category)"
   ]
  },
  {
   "cell_type": "code",
   "execution_count": 36,
   "id": "c7069576",
   "metadata": {},
   "outputs": [],
   "source": [
    "data = pd.get_dummies(data, columns=['titleType'], prefix=['titleType'])\n",
    "data_test = pd.get_dummies(data_test, columns=['titleType'], prefix=['titleType'])"
   ]
  },
  {
   "cell_type": "code",
   "execution_count": 37,
   "id": "566fb567",
   "metadata": {},
   "outputs": [
    {
     "name": "stdout",
     "output_type": "stream",
     "text": [
      "['Comedy,Musical' 'Action,Adventure,Animation' 'Documentary,History,War'\n",
      " ... 'Family,History,Horror' 'Adult,Music,Short' 'Fantasy,War']\n"
     ]
    }
   ],
   "source": [
    "genres = data['genres_x'].unique()\n",
    "print(genres)"
   ]
  },
  {
   "cell_type": "markdown",
   "id": "c1ff45ca",
   "metadata": {},
   "source": [
    "Note that a video can be placed in several genres. So we'll have to separate the different genres of each video and put a 1 in the column of genres to which they belong."
   ]
  },
  {
   "cell_type": "code",
   "execution_count": 38,
   "id": "d90aafc4",
   "metadata": {},
   "outputs": [],
   "source": [
    "# Divides multiple values into distinct categories for the 'genre_x' column\n",
    "data['genres_x'] = data['genres_x'].str.split(',')\n",
    "data_test['genres_x'] = data_test['genres_x'].str.split(',')\n",
    "\n",
    "\n",
    "# Creates indicator columns for each unique category in 'genre_x'.\n",
    "unique_genres = set(genre for genres in data['genres_x'] for genre in genres)\n",
    "for genre in unique_genres:\n",
    "    data[genre] = data['genres_x'].apply(lambda genres: 1 if genre in genres else 0)\n",
    "    data_test[genre] = data_test['genres_x'].apply(lambda genres: 1 if genre in genres else 0)\n",
    "\n",
    "    \n",
    "# Delete the genres_x column in the dataset\n",
    "data.drop('genres_x', axis=1, inplace=True)  \n",
    "data_test.drop('genres_x', axis=1, inplace=True)"
   ]
  },
  {
   "cell_type": "markdown",
   "id": "a95f6789",
   "metadata": {},
   "source": [
    "## Creation of training and test samples."
   ]
  },
  {
   "cell_type": "markdown",
   "id": "14d1d26e",
   "metadata": {},
   "source": [
    "Now that we've cleaned up our data, we can separate it into training and test sets."
   ]
  },
  {
   "cell_type": "code",
   "execution_count": 39,
   "id": "b9cf295e",
   "metadata": {},
   "outputs": [],
   "source": [
    "X = data.drop('averageRating', axis=1)\n",
    "y = data['averageRating']\n"
   ]
  },
  {
   "cell_type": "code",
   "execution_count": 40,
   "id": "6a040a7a",
   "metadata": {},
   "outputs": [],
   "source": [
    "X_train, X_test, y_train, y_test = train_test_split(X, y, test_size=0.2, random_state=42)"
   ]
  },
  {
   "cell_type": "code",
   "execution_count": 41,
   "id": "23e88f55",
   "metadata": {},
   "outputs": [
    {
     "data": {
      "text/plain": [
       "numVotes                  0\n",
       "isAdult                   0\n",
       "startYear                 0\n",
       "endYear                   0\n",
       "runtimeMinutes            0\n",
       "directors                 0\n",
       "writers                   0\n",
       "seasonNumber              0\n",
       "episodeNumber             0\n",
       "ordering                  0\n",
       "titleType_movie           0\n",
       "titleType_short           0\n",
       "titleType_tvEpisode       0\n",
       "titleType_tvMiniSeries    0\n",
       "titleType_tvMovie         0\n",
       "titleType_tvSeries        0\n",
       "titleType_tvShort         0\n",
       "titleType_tvSpecial       0\n",
       "titleType_video           0\n",
       "titleType_videoGame       0\n",
       "History                   0\n",
       "Fantasy                   0\n",
       "Adult                     0\n",
       "Comedy                    0\n",
       "Family                    0\n",
       "Western                   0\n",
       "Drama                     0\n",
       "Music                     0\n",
       "Sport                     0\n",
       "Adventure                 0\n",
       "Mystery                   0\n",
       "Short                     0\n",
       "Musical                   0\n",
       "Film-Noir                 0\n",
       "News                      0\n",
       "Horror                    0\n",
       "Crime                     0\n",
       "0                         0\n",
       "Sci-Fi                    0\n",
       "Documentary               0\n",
       "Animation                 0\n",
       "Game-Show                 0\n",
       "War                       0\n",
       "Thriller                  0\n",
       "Talk-Show                 0\n",
       "Reality-TV                0\n",
       "Romance                   0\n",
       "Biography                 0\n",
       "Action                    0\n",
       "dtype: int64"
      ]
     },
     "execution_count": 41,
     "metadata": {},
     "output_type": "execute_result"
    }
   ],
   "source": [
    "missing_values = X_train.isna()\n",
    "missing_count = missing_values.sum()\n",
    "missing_count"
   ]
  },
  {
   "cell_type": "code",
   "execution_count": 42,
   "id": "e1ca8685",
   "metadata": {},
   "outputs": [
    {
     "data": {
      "text/plain": [
       "Unnamed: 0\n",
       "26133     8.4\n",
       "151358    8.3\n",
       "856208    8.2\n",
       "387875    6.8\n",
       "562425    7.2\n",
       "         ... \n",
       "259179    7.8\n",
       "365839    9.0\n",
       "131933    7.4\n",
       "671157    7.5\n",
       "121959    4.2\n",
       "Name: averageRating, Length: 782031, dtype: float64"
      ]
     },
     "execution_count": 42,
     "metadata": {},
     "output_type": "execute_result"
    }
   ],
   "source": [
    "y_train"
   ]
  },
  {
   "cell_type": "markdown",
   "id": "f5f9c39d",
   "metadata": {},
   "source": [
    "## Testing several models"
   ]
  },
  {
   "cell_type": "markdown",
   "id": "66cba5ba",
   "metadata": {},
   "source": [
    "We will now try out several quick-to-implement models to see which algorithm performs best on our database. To compare their performance, we'll compare their MSE and $R^2$."
   ]
  },
  {
   "cell_type": "markdown",
   "id": "1a9b620c",
   "metadata": {},
   "source": [
    "For each algorithm we will proceed as follows: \n",
    "- Model initialization\n",
    "- Training the model on our training set\n",
    "- Prediction on the test set\n",
    "- Evaluation of model performance"
   ]
  },
  {
   "cell_type": "markdown",
   "id": "94da16fb",
   "metadata": {},
   "source": [
    "### Linear regression model"
   ]
  },
  {
   "cell_type": "code",
   "execution_count": 53,
   "id": "537c2aab",
   "metadata": {},
   "outputs": [
    {
     "name": "stdout",
     "output_type": "stream",
     "text": [
      "Mean Squared Error: 1.5815345498095275 and R-squared 0.19669383530143958\n"
     ]
    }
   ],
   "source": [
    "# Initialization\n",
    "model = LinearRegression()\n",
    "\n",
    "# Training\n",
    "model.fit(X_train, y_train)\n",
    "\n",
    "# Prediction\n",
    "y_pred = model.predict(X_test)\n",
    "\n",
    "# Evaluation of model performance\n",
    "mse = mean_squared_error(y_test, y_pred)\n",
    "r2 = r2_score(y_test, y_pred)\n",
    "\n",
    "print(f'Mean Squared Error: {mse} and R-squared {r2}')"
   ]
  },
  {
   "cell_type": "markdown",
   "id": "63c1e8e2",
   "metadata": {},
   "source": [
    "### Random Forest model"
   ]
  },
  {
   "cell_type": "code",
   "execution_count": 54,
   "id": "75c1afb4",
   "metadata": {},
   "outputs": [
    {
     "name": "stdout",
     "output_type": "stream",
     "text": [
      "Mean Squared Error: 1.0323358275120087 and R-squared 0.4756474119522327\n"
     ]
    }
   ],
   "source": [
    "model = RandomForestRegressor(n_estimators=50, max_depth = None, random_state=42)\n",
    "\n",
    "# Training\n",
    "model.fit(X_train, y_train)\n",
    "\n",
    "# Prediction\n",
    "y_pred = model.predict(X_test)\n",
    "\n",
    "# Evaluation of model performance\n",
    "mse = mean_squared_error(y_test, y_pred)\n",
    "r2 = r2_score(y_test, y_pred)\n",
    "\n",
    "print(f'Mean Squared Error: {mse} and R-squared {r2}')"
   ]
  },
  {
   "cell_type": "markdown",
   "id": "8e1d7d67",
   "metadata": {},
   "source": [
    "### Gradient Boosting model"
   ]
  },
  {
   "cell_type": "code",
   "execution_count": 55,
   "id": "33e34fb0",
   "metadata": {},
   "outputs": [
    {
     "name": "stdout",
     "output_type": "stream",
     "text": [
      "Mean Squared Error: 1.4764582159899695 and R-squared 0.25006507953466883\n"
     ]
    }
   ],
   "source": [
    "# Initialization\n",
    "model = GradientBoostingRegressor(n_estimators=50, learning_rate=0.1, random_state=42)\n",
    "\n",
    "# Training\n",
    "model.fit(X_train, y_train)\n",
    "\n",
    "# Prediction\n",
    "y_pred = model.predict(X_test)\n",
    "\n",
    "# Evaluation of model performance\n",
    "mse = mean_squared_error(y_test, y_pred)\n",
    "r2 = r2_score(y_test, y_pred)\n",
    "\n",
    "print(f\"Mean Squared Error: {mse} and R-squared {r2}\")"
   ]
  },
  {
   "cell_type": "markdown",
   "id": "45e09961",
   "metadata": {},
   "source": [
    "### KNN model"
   ]
  },
  {
   "cell_type": "code",
   "execution_count": 57,
   "id": "cb3375d4",
   "metadata": {},
   "outputs": [
    {
     "name": "stdout",
     "output_type": "stream",
     "text": [
      "Mean Squared Error: 1.6904322926257067 and R-squared 0.14138158927018418\n"
     ]
    }
   ],
   "source": [
    "# Initialization\n",
    "knn_regressor = KNeighborsRegressor(n_neighbors=3)\n",
    "\n",
    "# Training\n",
    "knn_regressor.fit(X_train, y_train)\n",
    "\n",
    "# Prediction\n",
    "y_pred = knn_regressor.predict(X_test)\n",
    "\n",
    "# Evaluation of model performance\n",
    "mse = mean_squared_error(y_test, y_pred)\n",
    "r2 = r2_score(y_test, y_pred)\n",
    "\n",
    "print(f\"Mean Squared Error: {mse} and R-squared {r2}\")"
   ]
  },
  {
   "cell_type": "markdown",
   "id": "03df19af",
   "metadata": {},
   "source": [
    "### SVM model"
   ]
  },
  {
   "cell_type": "markdown",
   "id": "f81a624b",
   "metadata": {},
   "source": [
    "I tried to get the following code to work, but it was already taking far too long for a basic model. I therefore concluded that the SVM algorithm was not suitable for our database. "
   ]
  },
  {
   "cell_type": "code",
   "execution_count": null,
   "id": "676d521f",
   "metadata": {},
   "outputs": [],
   "source": [
    "'''# Initialization\n",
    "svm_regressor = SVR(kernel='linear', C=1.0)\n",
    "\n",
    "# Training\n",
    "svm_regressor.fit(X_train, y_train)\n",
    "\n",
    "# Prediction\n",
    "y_pred = svm_regressor.predict(X_test)\n",
    "\n",
    "# Evaluation of model performance\n",
    "mse = mean_squared_error(y_test, y_pred)\n",
    "r2 = r2_score(y_test, y_pred)\n",
    "\n",
    "print(f\"Mean Squared Error: {mse} and R-squared {r2}\")\n",
    "'''"
   ]
  },
  {
   "cell_type": "markdown",
   "id": "72b30423",
   "metadata": {},
   "source": [
    "At first glance, the random forest model seems to be the most appropriate for our dataset, as it has the highest $R^2$."
   ]
  },
  {
   "cell_type": "markdown",
   "id": "8935ce7b",
   "metadata": {},
   "source": [
    "## Choice of model: Random Forest"
   ]
  },
  {
   "cell_type": "markdown",
   "id": "77312c49",
   "metadata": {},
   "source": [
    "We are now going to test our model with several hyper-parameters. All the hyperparameters tested are not listed here, as I have progressively removed the less efficient hyperparameters. To look at the model's performance, we always look at the MSE and $R^2$."
   ]
  },
  {
   "cell_type": "markdown",
   "id": "d1ce7fe4",
   "metadata": {},
   "source": [
    "I tried to realize several models by modifying the hyperparameters \"n_estimators\", which corresponds to the number of decision trees to be built in the forest, \"max_depth\", which controls the maximum depth of each decision tree in the forest, and \"min_samples_split\", which controls the minimum number of samples required to split an internal node in a decision tree of the random forest."
   ]
  },
  {
   "cell_type": "markdown",
   "id": "6d45f092",
   "metadata": {},
   "source": [
    "After several tests, we noticed that the greater the number of trees, the greater the $R^2$. So I decided to keep the number of trees at 150 so that the algorithm wouldn't take too long to run."
   ]
  },
  {
   "cell_type": "code",
   "execution_count": 89,
   "id": "0704bb8a",
   "metadata": {},
   "outputs": [
    {
     "name": "stdout",
     "output_type": "stream",
     "text": [
      "Mean Squared Error: 1.0162914042061273 and R-squared 0.48379682870205953\n"
     ]
    }
   ],
   "source": [
    "# Initialization\n",
    "model = RandomForestRegressor(n_estimators=150, max_depth = 40, random_state=42)\n",
    "\n",
    "# Training\n",
    "model.fit(X_train, y_train)\n",
    "\n",
    "# Prediction\n",
    "y_pred = model.predict(X_test)\n",
    "\n",
    "# Evaluation of model performance\n",
    "mse = mean_squared_error(y_test, y_pred)\n",
    "r2 = r2_score(y_test, y_pred)\n",
    "\n",
    "print(f'Mean Squared Error: {mse} and R-squared {r2}')"
   ]
  },
  {
   "cell_type": "code",
   "execution_count": 87,
   "id": "82db34b4",
   "metadata": {},
   "outputs": [
    {
     "name": "stdout",
     "output_type": "stream",
     "text": [
      "Mean Squared Error: 1.1016120660452917 and R-squared 0.44046004947089046\n"
     ]
    }
   ],
   "source": [
    "# Initialization\n",
    "model = RandomForestRegressor(n_estimators=150, max_depth = 20, min_samples_split=2, random_state=42)\n",
    "\n",
    "# Training\n",
    "model.fit(X_train, y_train)\n",
    "\n",
    "# Prediction\n",
    "y_pred = model.predict(X_test)\n",
    "\n",
    "# Evaluation of model performance\n",
    "mse = mean_squared_error(y_test, y_pred)\n",
    "r2 = r2_score(y_test, y_pred)\n",
    "\n",
    "print(f'Mean Squared Error: {mse} and R-squared {r2}')"
   ]
  },
  {
   "cell_type": "code",
   "execution_count": 88,
   "id": "e2b47f7e",
   "metadata": {},
   "outputs": [
    {
     "name": "stdout",
     "output_type": "stream",
     "text": [
      "Mean Squared Error: 1.1026886523406456 and R-squared 0.4399132208176739\n"
     ]
    }
   ],
   "source": [
    "# Initialization\n",
    "model = RandomForestRegressor(n_estimators=150, max_depth = 20, min_samples_split=5, random_state=42)\n",
    "\n",
    "# Training\n",
    "model.fit(X_train, y_train)\n",
    "\n",
    "# Prediction\n",
    "y_pred = model.predict(X_test)\n",
    "\n",
    "# Evaluation of model performance\n",
    "mse = mean_squared_error(y_test, y_pred)\n",
    "r2 = r2_score(y_test, y_pred)\n",
    "\n",
    "print(f'Mean Squared Error: {mse} and R-squared {r2}')"
   ]
  },
  {
   "cell_type": "markdown",
   "id": "74cfed88",
   "metadata": {},
   "source": [
    "After several tests, the best value for \"min_sample_split\" is 2, which is also the default value for this hyperparameter. We therefore don't need to specify it, but keep \"min_sample_split\" = 2."
   ]
  },
  {
   "cell_type": "code",
   "execution_count": 43,
   "id": "fe533160",
   "metadata": {},
   "outputs": [
    {
     "name": "stdout",
     "output_type": "stream",
     "text": [
      "Mean Squared Error: 1.016742553319181 and R-squared 0.48356767729733185\n"
     ]
    }
   ],
   "source": [
    "# Initialization\n",
    "model = RandomForestRegressor(n_estimators=150, max_depth = 30, random_state=42)\n",
    "\n",
    "# Training\n",
    "model.fit(X_train, y_train)\n",
    "\n",
    "# Prediction\n",
    "y_pred = model.predict(X_test)\n",
    "\n",
    "# Evaluation of model performance\n",
    "mse = mean_squared_error(y_test, y_pred)\n",
    "r2 = r2_score(y_test, y_pred)\n",
    "\n",
    "print(f'Mean Squared Error: {mse} and R-squared {r2}')"
   ]
  },
  {
   "cell_type": "markdown",
   "id": "abaeaf14",
   "metadata": {},
   "source": [
    "In terms of performance and execution time, I've decided to stick with the latest model presented here. Indeed, even if the first model has a slightly higher $R^2$, the difference in time to run the two models is significant. This is why, for an almost equal score, I prefer to keep the faster algorithm. This is the model we'll use to predict the \"data_test\" dataset."
   ]
  },
  {
   "cell_type": "code",
   "execution_count": 44,
   "id": "847cf8f1",
   "metadata": {},
   "outputs": [
    {
     "name": "stdout",
     "output_type": "stream",
     "text": [
      "Predictions for other data:\n",
      "[7.51559484 7.70758502 6.34392474 ... 5.86006086 7.20206317 4.96290891]\n"
     ]
    }
   ],
   "source": [
    "# Predict using the trained model\n",
    "y_pred_other = model.predict(data_test)\n",
    "\n",
    "# Print the predictions for the other data\n",
    "print(\"Predictions for other data:\")\n",
    "print(y_pred_other)\n",
    "\n"
   ]
  },
  {
   "cell_type": "code",
   "execution_count": 45,
   "id": "739014d7",
   "metadata": {},
   "outputs": [
    {
     "data": {
      "text/plain": [
       "244386"
      ]
     },
     "execution_count": 45,
     "metadata": {},
     "output_type": "execute_result"
    }
   ],
   "source": [
    "len(y_pred_other)"
   ]
  },
  {
   "cell_type": "code",
   "execution_count": 50,
   "id": "f306874d",
   "metadata": {},
   "outputs": [
    {
     "data": {
      "image/png": "[encoded data removed]",
      "text/plain": [
       "<Figure size 432x288 with 1 Axes>"
      ]
     },
     "metadata": {
      "needs_background": "light"
     },
     "output_type": "display_data"
    }
   ],
   "source": [
    "indices = np.arange(len(y_pred[:100]))\n",
    "\n",
    "plt.plot(indices, y_test[:100], label='y_test', color='blue')\n",
    "plt.plot(indices, y_pred[:100], label='y_pred', color='red')\n",
    "\n",
    "plt.xlabel('Index')\n",
    "plt.ylabel('Values')\n",
    "plt.legend()\n",
    "\n",
    "plt.show()\n"
   ]
  },
  {
   "cell_type": "code",
   "execution_count": 46,
   "id": "9c75f3cd",
   "metadata": {},
   "outputs": [],
   "source": [
    "salida = pd.DataFrame(data={\"averageRating\": y_pred_other}).astype(str)\n",
    "salida.index = data_test.index\n",
    "salida.to_csv(\"submission6.csv\", sep=',',index=True,  index_label='Id')"
   ]
  },
  {
   "cell_type": "markdown",
   "id": "3e343182",
   "metadata": {},
   "source": [
    "With this model, I get an $R^2 = 0.4836$. I can now submit this model to Kaggle."
   ]
  },
  {
   "cell_type": "markdown",
   "id": "d2cee82e",
   "metadata": {},
   "source": [
    "# Conclusion"
   ]
  },
  {
   "cell_type": "markdown",
   "id": "bea087fb",
   "metadata": {},
   "source": [
    "To conclude this project, a lot of clean-up work had to be done on the data. In fact, it was essential to clean everything thoroughly before using it, in order to obtain results as close to reality as possible. Next, work on the various models and parameters enabled me to choose a Random Forest algorithm with the following hyperparameters: \n",
    "- n_estimators = 150 ,\n",
    "- max_depth = 30 ,\n",
    "- min_samples_split = 2\n",
    "\n",
    "\n",
    "If I'd had more time, I could have improved my model using other techniques such as cross-validation. Indeed, this technique allows us to identify, for example, whether our model is over- or under-fitted.\n"
   ]
  }
 ],
 "metadata": {
  "kernelspec": {
   "display_name": "Python 3 (ipykernel)",
   "language": "python",
   "name": "python3"
  },
  "language_info": {
   "codemirror_mode": {
    "name": "ipython",
    "version": 3
   },
   "file_extension": ".py",
   "mimetype": "text/x-python",
   "name": "python",
   "nbconvert_exporter": "python",
   "pygments_lexer": "ipython3",
   "version": "3.9.7"
  }
 },
 "nbformat": 4,
 "nbformat_minor": 5
}
